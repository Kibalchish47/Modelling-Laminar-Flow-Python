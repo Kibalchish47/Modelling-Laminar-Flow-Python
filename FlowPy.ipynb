{
 "cells": [
  {
   "cell_type": "markdown",
   "metadata": {},
   "source": [
    "# The Main Code (FlowPy)"
   ]
  },
  {
   "cell_type": "markdown",
   "metadata": {},
   "source": [
    "## Step 1: Import modules and build classes"
   ]
  },
  {
   "cell_type": "code",
   "execution_count": 27,
   "metadata": {},
   "outputs": [],
   "source": [
    "# Basic imports (yeah it's not much)\n",
    "import numpy as np\n",
    "import os"
   ]
  },
  {
   "cell_type": "code",
   "execution_count": 28,
   "metadata": {},
   "outputs": [],
   "source": [
    "# Therefore, we make a Boundary class that has two properties — type and value.\n",
    "class Boundary:\n",
    "    def __init__(self, boundary_type, boundary_value):\n",
    "        self.DefineBoundary(boundary_type, boundary_value)\n",
    "        \n",
    "    def DefineBoundary(self,boundary_type, boundary_value):\n",
    "        self.type=boundary_type\n",
    "        self.value=boundary_value"
   ]
  },
  {
   "cell_type": "code",
   "execution_count": 29,
   "metadata": {},
   "outputs": [],
   "source": [
    "class Space:\n",
    "    def __init__(self):\n",
    "        pass\n",
    "    \n",
    "    def CreateMesh(self, rowpts, colpts):\n",
    "        #Domain gridpoints\n",
    "        self.rowpts = rowpts\n",
    "        self.colpts = colpts\n",
    "        \n",
    "        #Velocity matrices\n",
    "        self.u = np.zeros((self.rowpts+2, self.colpts + 2))\n",
    "        self.v = np.zeros((self.rowpts+2, self.colpts + 2))\n",
    "        \n",
    "        self.u_star = np.zeros((self.rowpts + 2, self.colpts + 2))\n",
    "        self.v_star = np.zeros((self.rowpts + 2, self.colpts + 2))\n",
    "        \n",
    "        self.u_next = np.zeros((self.rowpts + 2, self.colpts + 2))\n",
    "        self.v_next = np.zeros((self.rowpts + 2, self.colpts + 2))\n",
    "        \n",
    "        self.u_c = np.zeros((self.rowpts, self.colpts))\n",
    "        self.v_c = np.zeros((self.rowpts, self.colpts))\n",
    "        \n",
    "        #Pressure matrices\n",
    "        self.p = np.zeros((self.rowpts + 2, self.colpts + 2))\n",
    "        self.p_c = np.zeros((self.rowpts, self.colpts))\n",
    "\n",
    "        #Set default source term\n",
    "        self.SetSourceTerm()        \n",
    "        \n",
    "    def SetDeltas(self,breadth, length):\n",
    "        self.dx = length / (self.colpts - 1)\n",
    "        self.dy = breadth / (self.rowpts - 1)\n",
    "        \n",
    "    def SetInitialU(self, U):\n",
    "        self.u=U*self.u\n",
    "        \n",
    "    def SetInitialV(self, V):\n",
    "        self.v=V*self.v\n",
    "        \n",
    "    def SetInitialP(self, P):\n",
    "        self.p=P*self.p\n",
    "        \n",
    "    def SetSourceTerm(self, S_x = 0, S_y = 0):\n",
    "        self.S_x = S_x\n",
    "        self.S_y = S_y"
   ]
  },
  {
   "cell_type": "code",
   "execution_count": 30,
   "metadata": {},
   "outputs": [],
   "source": [
    "class Fluid:\n",
    "    # rho = density\n",
    "    # mu = viscosity\n",
    "    def __init__(self, rho, mu):\n",
    "        self.SetFluidProperties(rho, mu)\n",
    "    \n",
    "    def SetFluidProperties(self, rho, mu):\n",
    "        self.rho = rho\n",
    "        self.mu = mu"
   ]
  },
  {
   "cell_type": "code",
   "execution_count": 31,
   "metadata": {},
   "outputs": [],
   "source": [
    "#Note: The arguments to the function are all objects of our defined classes\n",
    "\n",
    "#Set boundary conditions for horizontal velocity\n",
    "def SetUBoundary(space, left ,right ,top ,bottom):\n",
    "    if(left.type == \"D\"):\n",
    "        space.u[:,0] = left.value\n",
    "    elif(left.type == \"N\"):\n",
    "        space.u[:,0] = -left.value * space.dx + space.u[:,1]\n",
    "    \n",
    "    if(right.type == \"D\"):\n",
    "        space.u[:,-1] = right.value\n",
    "    elif(right.type == \"N\"):\n",
    "        space.u[:,-1] = right.value * space.dx + space.u[:,-2]\n",
    "        \n",
    "    if(top.type == \"D\"):\n",
    "        space.u[-1,:] = 2 * top.value - space.u[-2,:]\n",
    "    elif(top.type==\"N\"):\n",
    "        space.u[-1,:] = -top.value * space.dy + space.u[-2,:]\n",
    "     \n",
    "    if(bottom.type == \"D\"):\n",
    "        space.u[0,:] = 2 * bottom.value - space.u[1,:]\n",
    "    elif(bottom.type == \"N\"):\n",
    "        space.u[0,:] = bottom.value * space.dy + space.u[1,:]"
   ]
  },
  {
   "cell_type": "code",
   "execution_count": 32,
   "metadata": {},
   "outputs": [],
   "source": [
    "\n",
    "#Set boundary conditions for vertical velocity\n",
    "def SetVBoundary(space, left, right, top, bottom):\n",
    "    if(left.type == \"D\"):\n",
    "        space.v[:,0] = 2 * left.value - space.v[:,1]\n",
    "    elif(left.type == \"N\"):\n",
    "        space.v[:,0] = -left.value * space.dx + space.v[:,1]\n",
    "    \n",
    "    if(right.type == \"D\"):\n",
    "        space.v[:,-1] = 2 * right.value - space.v[:,-2]\n",
    "    elif(right.type == \"N\"):\n",
    "        space.v[:,-1] = right.value * space.dx + space.v[:,-2]\n",
    "        \n",
    "    if(top.type == \"D\"):\n",
    "        space.v[-1,:] = top.value\n",
    "    elif(top.type == \"N\"):\n",
    "        space.v[-1,:] = -top.value * space.dy + space.v[-2,:]\n",
    "     \n",
    "    if(bottom.type == \"D\"):\n",
    "        space.v[0,:] = bottom.value\n",
    "    elif(bottom.type == \"N\"):\n",
    "        space.v[0,:] = bottom.value * space.dy + space.v[1,:]"
   ]
  },
  {
   "cell_type": "code",
   "execution_count": 33,
   "metadata": {},
   "outputs": [],
   "source": [
    "#Set boundary conditions for pressure\n",
    "def SetPBoundary(space, left, right, top, bottom):\n",
    "    if(left.type == \"D\"):\n",
    "        space.p[:,0] = left.value\n",
    "    elif(left.type == \"N\"):\n",
    "        space.p[:,0] = -left.value * space.dx + space.p[:,1]\n",
    "    \n",
    "    if(right.type == \"D\"):\n",
    "        space.p[1,-1] = right.value\n",
    "    elif(right.type == \"N\"):\n",
    "        space.p[:,-1] = right.value * space.dx + space.p[:,-2]\n",
    "        \n",
    "    if(top.type == \"D\"):\n",
    "        space.p[-1,:] = top.value\n",
    "    elif(top.type == \"N\"):\n",
    "        space.p[-1,:] = -top.value * space.dy + space.p[-2,:]\n",
    "     \n",
    "    if(bottom.type == \"D\"):\n",
    "        space.p[0,:] = bottom.value\n",
    "    elif(bottom.type == \"N\"):\n",
    "        space.p[0,:] = bottom.value * space.dy + space.p[1,:]"
   ]
  },
  {
   "cell_type": "code",
   "execution_count": 34,
   "metadata": {},
   "outputs": [],
   "source": [
    "## To ensure the convergence of finite difference methods, an upper bound on the time-step is \n",
    "## provided by the Courant–Friedrichs–Lewy (CFL) criterion which is set as the time-step for \n",
    "## the simulation using the SetTimeStep function. \n",
    "## --------------------------------\n",
    "## Adhering to the CFL criterion ensures that information propagated in a time-step is \n",
    "## not farther than the distance between two mesh elements.\n",
    "\n",
    "def SetTimeStep(CFL, space, fluid):\n",
    "    with np.errstate(divide = 'ignore'):\n",
    "        dt=CFL/np.sum([np.amax(space.u) / space.dx,\\\n",
    "                        np.amax(space.v)/ space.dy])\n",
    "        \n",
    "    #Escape condition if dt is infinity due to zero velocity initially\n",
    "    if np.isinf(dt):\n",
    "        dt = CFL * (space.dx + space.dy)\n",
    "    space.dt = dt"
   ]
  },
  {
   "cell_type": "code",
   "execution_count": 35,
   "metadata": {},
   "outputs": [],
   "source": [
    "#The first function is used to get starred velocities from u and v at timestep t\n",
    "def GetStarredVelocities(space, fluid):\n",
    "    # Save object attributes as local variable (with explicit typing for improved readability)\n",
    "    # from the space and fluid objects, such as the number of rows \n",
    "    # and columns in the computational domain (rows and cols), the velocity components (u and v), \n",
    "    # and various parameters like the grid spacing (dx and dy), time step size (dt), fluid density (rho), and fluid viscosity (mu).\n",
    "    rows = int(space.rowpts)\n",
    "    cols = int(space.colpts)\n",
    "    u = space.u.astype(float, copy=False)\n",
    "    v = space.v.astype(float, copy=False)\n",
    "    dx = float(space.dx)\n",
    "    dy = float(space.dy)\n",
    "    dt = float(space.dt)\n",
    "    S_x = float(space.S_x)\n",
    "    S_y = float(space.S_y)\n",
    "    rho = float(fluid.rho)\n",
    "    mu = float(fluid.mu)\n",
    "    \n",
    "    #Copy u and v to new variables u_star and v_star\n",
    "    u_star = u.copy()\n",
    "    v_star = v.copy()\n",
    "    \n",
    "    # Calculate derivatives of u and v using the finite difference scheme. \n",
    "    # Numpy vectorization saves us from using slower for loops to go over each element in the u and v matrices\n",
    "    u1_y = (u[2:, 1:cols+1] - u[0:rows, 1:cols+1]) / (2*dy)\n",
    "    u1_x = (u[1:rows+1, 2:] - u[1:rows+1, 0:cols]) / (2*dx)\n",
    "    u2_y = (u[2:, 1:cols+1] - 2*u[1:rows+1, 1:cols+1] + u[0:rows, 1:cols+1]) / (dy**2)\n",
    "    u2_x = (u[1:rows+1, 2:] - 2*u[1:rows+1, 1:cols+1] + u[1:rows+1, 0:cols]) / (dx**2)\n",
    "    v_face = (v[1:rows+1, 1:cols+1] + v[1:rows+1, 0:cols] + v[2:, 1:cols+1] + v[2:, 0:cols]) / 4\n",
    "    u_star[1:rows+1, 1:cols+1] = u[1:rows+1, 1:cols+1] - dt*(u[1:rows+1, 1:cols+1]*u1_x + v_face*u1_y) \\\n",
    "        + (dt*(mu/rho)*(u2_x+u2_y)) + (dt*S_x)   \n",
    "\n",
    "    v1_y = (v[2:, 1:cols+1] - v[0:rows, 1:cols+1]) / (2*dy)\n",
    "    v1_x = (v[1:rows+1, 2:] - v[1:rows+1, 0:cols]) / (2*dx)\n",
    "    v2_y = (v[2:, 1:cols+1] - 2*v[1:rows+1, 1:cols+1] + v[0:rows, 1:cols+1]) / (dy**2)\n",
    "    v2_x = (v[1:rows+1, 2:] - 2*v[1:rows+1, 1:cols+1] + v[1:rows+1, 0:cols]) / (dx**2)\n",
    "    u_face = (u[1:rows+1, 1:cols+1] + u[1:rows+1, 2:] + u[0:rows, 1:cols+1] + u[0:rows, 2:]) / 4\n",
    "    v_star[1:rows+1, 1:cols+1] = v[1:rows+1, 1:cols+1] - dt*(u_face*v1_x+v[1:rows+1, 1:cols+1]*v1_y) \\\n",
    "        +(dt*(mu/rho)*(v2_x + v2_y))+(dt*S_y)\n",
    "    \n",
    "    #Save the calculated starred velocities to the space object \n",
    "    space.u_star=u_star.copy()\n",
    "    space.v_star=v_star.copy()    "
   ]
  },
  {
   "cell_type": "code",
   "execution_count": 36,
   "metadata": {},
   "outputs": [],
   "source": [
    "#The second function is used to iteratively solve the pressure Possion equation from the starred velocities \n",
    "#to calculate pressure at t+delta_t\n",
    "def SolvePressurePoisson(space, fluid, left, right, top, bottom):\n",
    "    #Save object attributes as local variable with explicity typing for improved readability\n",
    "    rows = int(space.rowpts)\n",
    "    cols = int(space.colpts)\n",
    "    u_star = space.u_star.astype(float, copy=False)\n",
    "    v_star = space.v_star.astype(float, copy=False)\n",
    "    p = space.p.astype(float, copy=False)\n",
    "    dx = float(space.dx)\n",
    "    dy = float(space.dy)\n",
    "    dt = float(space.dt)\n",
    "    rho = float(fluid.rho)\n",
    "    factor = 1 / (2/dx**2 + 2/dy**2)\n",
    "    \n",
    "    #Define initial error and tolerance for convergence (error > tol necessary initially)\n",
    "    error = 1\n",
    "    tol = 1e-3\n",
    "\n",
    "    #Evaluate derivative of starred velocities\n",
    "    ustar1_x = (u_star[1:rows+1, 2:] - u_star[1:rows+1, 0:cols]) / (2*dx)\n",
    "    vstar1_y = (v_star[2:, 1:cols+1] - v_star[0:rows, 1:cols+1]) / (2*dy)\n",
    "\n",
    "    #Continue iterative solution until error becomes smaller than tolerance\n",
    "    i = 0\n",
    "    while(error > tol):\n",
    "        i += 1\n",
    "        \n",
    "        #Save current pressure as p_old\n",
    "        p_old=p.astype(float, copy=True)\n",
    "        \n",
    "        #Evaluate second derivative of pressure from p_old\n",
    "        p2_xy = (p_old[2:,1:cols+1] + p_old[0:rows,1:cols+1]) / dy**2 + (p_old[1:rows+1,2:] + p_old[1:rows+1,0:cols]) / dx**2\n",
    "        \n",
    "        #Calculate new pressure \n",
    "        p[1:rows+1,1:cols+1] = (p2_xy) * factor - (rho*factor/dt) * (ustar1_x+vstar1_y)\n",
    "        \n",
    "        #Find maximum error between old and new pressure matrices\n",
    "        error = np.amax(abs(p-p_old))\n",
    "        \n",
    "        #Apply pressure boundary conditions\n",
    "        SetPBoundary(space, left, right, top, bottom)\n",
    "        \n",
    "        #Escape condition in case solution does not converge after 500 iterations\n",
    "        if(i > 500):\n",
    "            tol *= 10"
   ]
  },
  {
   "cell_type": "code",
   "execution_count": 37,
   "metadata": {},
   "outputs": [],
   "source": [
    "#The third function is used to calculate the velocities at timestep t+delta_t using the pressure at t+delta_t and starred velocities\n",
    "\n",
    "def SolveMomentumEquation(space, fluid):\n",
    "    #Save object attributes as local variable with explicity typing for improved readability\n",
    "    rows = int(space.rowpts)\n",
    "    cols = int(space.colpts)\n",
    "    u_star = space.u_star.astype(float, copy=False)\n",
    "    v_star = space.v_star.astype(float, copy=False)\n",
    "    p = space.p.astype(float, copy=False)\n",
    "    dx = float(space.dx)\n",
    "    dy = float(space.dy)\n",
    "    dt = float(space.dt)\n",
    "    rho = float(fluid.rho)\n",
    "    u = space.u.astype(float, copy=False)\n",
    "    v = space.v.astype(float, copy=False)\n",
    "\n",
    "    #Evaluate first derivative of pressure in x direction\n",
    "    p1_x = (p[1:rows+1, 2:] - p[1:rows+1, 0:cols]) / (2*dx)\n",
    "    #Calculate u at next timestep\n",
    "    u[1:rows+1, 1:cols+1] = u_star[1:rows+1, 1:cols+1] - (dt/rho) * p1_x\n",
    "\n",
    "    #Evaluate first derivative of pressure in y direction\n",
    "    p1_y = (p[2:, 1:cols+1] - p[0:rows, 1:cols+1]) / (2*dy)\n",
    "    #Calculate v at next timestep\n",
    "    v[1:rows+1, 1:cols+1] = v_star[1:rows+1, 1:cols+1] - (dt/rho) * p1_y"
   ]
  },
  {
   "cell_type": "markdown",
   "metadata": {},
   "source": [
    "Further, a convenience function is defined to save the velocities and pressures inside the boundaries to new variables, which can then be written to text files."
   ]
  },
  {
   "cell_type": "code",
   "execution_count": 38,
   "metadata": {},
   "outputs": [],
   "source": [
    "def SetCentrePUV(space):\n",
    "    space.p_c = space.p[1:-1, 1:-1]\n",
    "    space.u_c = space.u[1:-1, 1:-1]\n",
    "    space.v_c = space.v[1:-1, 1:-1]"
   ]
  },
  {
   "cell_type": "markdown",
   "metadata": {},
   "source": [
    "Finally, we define two functions for I/O purposes — MakeResultDirectory to make a directory called “Result” to store the text files and WriteToFile to save the values of the variables to a text file every few iterations (specified using the interval argument)."
   ]
  },
  {
   "cell_type": "code",
   "execution_count": 39,
   "metadata": {},
   "outputs": [],
   "source": [
    "def MakeResultDirectory(wipe=False):\n",
    "    #Get path to the Result directory\n",
    "    cwdir = os.getcwd()\n",
    "    dir_path = os.path.join(cwdir, \"Result\")\n",
    "    #If directory does not exist, make it\n",
    "    if not os.path.isdir(dir_path):\n",
    "        os.makedirs(dir_path, exist_ok=True)\n",
    "    else:\n",
    "        #If wipe is True, remove files present in the directory\n",
    "        if wipe:\n",
    "            os.chdir(dir_path)\n",
    "            filelist = os.listdir()\n",
    "            for file in filelist:\n",
    "                os.remove(file)\n",
    "    \n",
    "    os.chdir(cwdir)           \n",
    "    \n",
    "def WriteToFile(space, iteration, interval):\n",
    "    if(iteration % interval == 0):\n",
    "        dir_path = os.path.join(os.getcwd(), \"Result\")\n",
    "        filename = \"PUV{0}.txt\".format(iteration)\n",
    "        path = os.path.join(dir_path, filename)\n",
    "        with open(path, \"w\") as f:\n",
    "            for i in range(space.rowpts):\n",
    "                for j in range(space.colpts):\n",
    "                    f.write(\"{}\\t{}\\t{}\\n\".format(space.p_c[i,j],space.u_c[i,j],space.v_c[i,j]))"
   ]
  },
  {
   "cell_type": "markdown",
   "metadata": {},
   "source": [
    "# Input (FlowPy_Input)"
   ]
  },
  {
   "cell_type": "markdown",
   "metadata": {},
   "source": [
    "Most of the heavy lifting has been done, we just need to make use of all the defined classes and functions to run the simulation now!"
   ]
  },
  {
   "cell_type": "code",
   "execution_count": null,
   "metadata": {},
   "outputs": [],
   "source": [
    "import numpy as np\n",
    "import matplotlib.pyplot as plt\n",
    "import matplotlib.cm as cm"
   ]
  },
  {
   "cell_type": "markdown",
   "metadata": {},
   "source": [
    "As an example, inputs relevant to the Lid Cavity Test (at Reynolds Number=400) are entered in this tutorial.\n",
    "In this test, fluid is kept in a 2D box with three rigid walls and the fourth wall (or the lid) is moved at a uniform velocity. Once steady state is reached, statistics of the developed flow field can be compared to a benchmark.\n",
    "\n",
    "![Alt text](<assets/Figure 2 Lid Cavity Problem set-up.png> \"Figure 2 Lid Cavity Problem set-up\")\n",
    "\n",
    "We begin by specifying input variables describing the domain and then creating a Space object with these variables."
   ]
  },
  {
   "cell_type": "code",
   "execution_count": null,
   "metadata": {},
   "outputs": [],
   "source": [
    "#### SPATIAL AND TEMPORAL INPUTS\n",
    "length=4 #Length of computational domain in the x-direction\n",
    "breadth=4 #Breadth of computational domain in the y-direction\n",
    "colpts=257 #Number of grid points in the x-direction #KEEP ODD\n",
    "rowpts=257 #Number of grid points in the y-direction #KEEP ODD\n",
    "\n",
    "#Create an object of the class Space called cavity\n",
    "cavity = Space()\n",
    "cavity.CreateMesh(rowpts,colpts)\n",
    "cavity.SetDeltas(breadth,length)"
   ]
  },
  {
   "cell_type": "markdown",
   "metadata": {},
   "source": [
    "Next, the density and viscosity of the fluid are specified, and an object of the class Fluid is created."
   ]
  },
  {
   "cell_type": "code",
   "execution_count": null,
   "metadata": {},
   "outputs": [],
   "source": [
    "#### FLUID PROPERTIES\n",
    "rho = 1 #Density of fluid\n",
    "mu = 0.01 #Viscosity of fluid\n",
    "\n",
    "#Create an object of the class Fluid called water\n",
    "water = Fluid(rho,mu)"
   ]
  },
  {
   "cell_type": "markdown",
   "metadata": {},
   "source": [
    "# Visualizer (FlowPy_Visualizer)"
   ]
  }
 ],
 "metadata": {
  "kernelspec": {
   "display_name": "base",
   "language": "python",
   "name": "python3"
  },
  "language_info": {
   "codemirror_mode": {
    "name": "ipython",
    "version": 3
   },
   "file_extension": ".py",
   "mimetype": "text/x-python",
   "name": "python",
   "nbconvert_exporter": "python",
   "pygments_lexer": "ipython3",
   "version": "3.11.4"
  },
  "orig_nbformat": 4
 },
 "nbformat": 4,
 "nbformat_minor": 2
}
