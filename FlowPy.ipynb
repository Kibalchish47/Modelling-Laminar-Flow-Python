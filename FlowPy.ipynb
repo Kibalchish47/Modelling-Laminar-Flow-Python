{
 "cells": [
  {
   "cell_type": "markdown",
   "metadata": {},
   "source": [
    "# Step 1: Import modules and build classes"
   ]
  },
  {
   "cell_type": "code",
   "execution_count": null,
   "metadata": {},
   "outputs": [],
   "source": [
    "# Basic imports (yeah it's not much)\n",
    "import numpy as np\n",
    "import os"
   ]
  },
  {
   "cell_type": "markdown",
   "metadata": {},
   "source": [
    "The PDEs are solved by applying certain boundary conditions which indicate how the fluid will behave at the boundaries of the domain. For example, fluid flowing through a pipe will have a wall with zero fluid velocity and an entry as well as exit with some specified flow velocity.\n",
    "\n",
    "Mathematically, boundary conditions can be expressed in two forms — Dirichlet and Neumann boundaries. The former specifies a value of the dependent variable at the boundary whereas the latter specifies a value for the derivative of the dependent variable at the boundary."
   ]
  },
  {
   "cell_type": "code",
   "execution_count": null,
   "metadata": {},
   "outputs": [],
   "source": [
    "# Therefore, we make a Boundary class that has two properties — type and value.\n",
    "class Boundary:\n",
    "    def __init__(self, boundary_type, boundary_value):\n",
    "        self.DefineBoundary(boundary_type, boundary_value)\n",
    "        \n",
    "    def DefineBoundary(self,boundary_type, boundary_value):\n",
    "        self.type=boundary_type\n",
    "        self.value=boundary_value"
   ]
  },
  {
   "cell_type": "markdown",
   "metadata": {},
   "source": [
    "The domain enclosed by the boundary (like the inside of a pipe) is represented using a 2D mesh or grid and the values of dependent variables are calculated at the center of boxes in the grid (for pressure) or at the faces of the boxes (for velocities). \n",
    "\n",
    "This is referred to as a staggered grid approach. To represent the mesh, we create a class called Space. \n",
    "The method CreateMesh creates a matrix of given size for the dependent variables and the SetDeltas method calculates the values of the differential lengths based on the specified length and breadth of the domain."
   ]
  },
  {
   "cell_type": "code",
   "execution_count": null,
   "metadata": {},
   "outputs": [],
   "source": [
    "class Space:\n",
    "    def __init__(self):\n",
    "        pass\n",
    "    \n",
    "    def CreateMesh(self, rowpts, colpts):\n",
    "        #Domain gridpoints\n",
    "        self.rowpts = rowpts\n",
    "        self.colpts = colpts\n",
    "        \n",
    "        #Velocity matrices\n",
    "        self.u = np.zeros((self.rowpts+2, self.colpts + 2))\n",
    "        self.v = np.zeros((self.rowpts+2, self.colpts + 2))\n",
    "        \n",
    "        self.u_star = np.zeros((self.rowpts + 2, self.colpts + 2))\n",
    "        self.v_star = np.zeros((self.rowpts + 2, self.colpts + 2))\n",
    "        \n",
    "        self.u_next = np.zeros((self.rowpts + 2, self.colpts + 2))\n",
    "        self.v_next = np.zeros((self.rowpts + 2, self.colpts + 2))\n",
    "        \n",
    "        self.u_c = np.zeros((self.rowpts, self.colpts))\n",
    "        self.v_c = np.zeros((self.rowpts, self.colpts))\n",
    "        \n",
    "        #Pressure matrices\n",
    "        self.p = np.zeros((self.rowpts + 2, self.colpts + 2))\n",
    "        self.p_c = np.zeros((self.rowpts, self.colpts))\n",
    "\n",
    "        #Set default source term\n",
    "        self.SetSourceTerm()        \n",
    "        \n",
    "    def SetDeltas(self,breadth, length):\n",
    "        self.dx = length / (self.colpts - 1)\n",
    "        self.dy = breadth / (self.rowpts - 1)\n",
    "        \n",
    "    def SetInitialU(self, U):\n",
    "        self.u=U*self.u\n",
    "        \n",
    "    def SetInitialV(self, V):\n",
    "        self.v=V*self.v\n",
    "        \n",
    "    def SetInitialP(self, P):\n",
    "        self.p=P*self.p\n",
    "        \n",
    "    def SetSourceTerm(self, S_x = 0, S_y = 0):\n",
    "        self.S_x = S_x\n",
    "        self.S_y = S_y"
   ]
  },
  {
   "cell_type": "markdown",
   "metadata": {},
   "source": [
    "Lastly, we create a class Fluid to represent the properties of the fluid — like density (rho) and viscosity (mu)."
   ]
  },
  {
   "cell_type": "code",
   "execution_count": null,
   "metadata": {},
   "outputs": [],
   "source": [
    "class Fluid:\n",
    "    def __init__(self, rho, mu):\n",
    "        self.SetFluidProperties(rho, mu)\n",
    "    \n",
    "    def SetFluidProperties(self, rho, mu):\n",
    "        self.rho = rho\n",
    "        self.mu = mu"
   ]
  },
  {
   "cell_type": "markdown",
   "metadata": {},
   "source": [
    "# Step 2: Write Functions to implement the Finite Difference Method"
   ]
  },
  {
   "cell_type": "code",
   "execution_count": null,
   "metadata": {},
   "outputs": [],
   "source": [
    "#Note: The arguments to the function are all objects of our defined classes\n",
    "#Set boundary conditions for horizontal velocity\n",
    "def SetUBoundary(space, left ,right ,top ,bottom):\n",
    "    if(left.type == \"D\"):\n",
    "        space.u[:,0] = left.value\n",
    "    elif(left.type == \"N\"):\n",
    "        space.u[:,0] = -left.value * space.dx + space.u[:,1]\n",
    "    \n",
    "    if(right.type == \"D\"):\n",
    "        space.u[:,-1] = right.value\n",
    "    elif(right.type == \"N\"):\n",
    "        space.u[:,-1] = right.value * space.dx + space.u[:,-2]\n",
    "        \n",
    "    if(top.type == \"D\"):\n",
    "        space.u[-1,:] = 2 * top.value - space.u[-2,:]\n",
    "    elif(top.type==\"N\"):\n",
    "        space.u[-1,:] = -top.value * space.dy + space.u[-2,:]\n",
    "     \n",
    "    if(bottom.type == \"D\"):\n",
    "        space.u[0,:] = 2 * bottom.value - space.u[1,:]\n",
    "    elif(bottom.type == \"N\"):\n",
    "        space.u[0,:] = bottom.value * space.dy + space.u[1,:]"
   ]
  },
  {
   "cell_type": "code",
   "execution_count": null,
   "metadata": {},
   "outputs": [],
   "source": [
    "\n",
    "#Set boundary conditions for vertical velocity\n",
    "def SetVBoundary(space,left,right,top,bottom):\n",
    "    if(left.type==\"D\"):\n",
    "        space.v[:,0]=2*left.value-space.v[:,1]\n",
    "    elif(left.type==\"N\"):\n",
    "        space.v[:,0]=-left.value*space.dx+space.v[:,1]\n",
    "    \n",
    "    if(right.type==\"D\"):\n",
    "        space.v[:,-1]=2*right.value-space.v[:,-2]\n",
    "    elif(right.type==\"N\"):\n",
    "        space.v[:,-1]=right.value*space.dx+space.v[:,-2]\n",
    "        \n",
    "    if(top.type==\"D\"):\n",
    "        space.v[-1,:]=top.value\n",
    "    elif(top.type==\"N\"):\n",
    "        space.v[-1,:]=-top.value*space.dy+space.v[-2,:]\n",
    "     \n",
    "    if(bottom.type==\"D\"):\n",
    "        space.v[0,:]=bottom.value\n",
    "    elif(bottom.type==\"N\"):\n",
    "        space.v[0,:]=bottom.value*space.dy+space.v[1,:]"
   ]
  },
  {
   "cell_type": "code",
   "execution_count": null,
   "metadata": {},
   "outputs": [],
   "source": [
    "#Set boundary conditions for pressure\n",
    "def SetPBoundary(space,left,right,top,bottom):\n",
    "    if(left.type==\"D\"):\n",
    "        space.p[:,0]=left.value\n",
    "    elif(left.type==\"N\"):\n",
    "        space.p[:,0]=-left.value*space.dx+space.p[:,1]\n",
    "    \n",
    "    if(right.type==\"D\"):\n",
    "        space.p[1,-1]=right.value\n",
    "    elif(right.type==\"N\"):\n",
    "        space.p[:,-1]=right.value*space.dx+space.p[:,-2]\n",
    "        \n",
    "    if(top.type==\"D\"):\n",
    "        space.p[-1,:]=top.value\n",
    "    elif(top.type==\"N\"):\n",
    "        space.p[-1,:]=-top.value*space.dy+space.p[-2,:]\n",
    "     \n",
    "    if(bottom.type==\"D\"):\n",
    "        space.p[0,:]=bottom.value\n",
    "    elif(bottom.type==\"N\"):\n",
    "        space.p[0,:]=bottom.value*space.dy+space.p[1,:]"
   ]
  }
 ],
 "metadata": {
  "language_info": {
   "name": "python"
  },
  "orig_nbformat": 4
 },
 "nbformat": 4,
 "nbformat_minor": 2
}
